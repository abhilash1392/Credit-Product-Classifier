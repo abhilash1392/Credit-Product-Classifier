{
 "metadata": {
  "language_info": {
   "codemirror_mode": {
    "name": "ipython",
    "version": 3
   },
   "file_extension": ".py",
   "mimetype": "text/x-python",
   "name": "python",
   "nbconvert_exporter": "python",
   "pygments_lexer": "ipython3",
   "version": "3.8.6"
  },
  "orig_nbformat": 2,
  "kernelspec": {
   "name": "python386jvsc74a57bd05854718dfa5a54aaf4703d60572959dba3a58efc2ae1742eb593e73966f38666",
   "display_name": "Python 3.8.6  ('venv': venv)"
  }
 },
 "nbformat": 4,
 "nbformat_minor": 2,
 "cells": [
  {
   "cell_type": "code",
   "execution_count": 129,
   "metadata": {},
   "outputs": [],
   "source": [
    "# Importing the libraries\n",
    "import numpy as np \n",
    "import pandas as pd "
   ]
  },
  {
   "cell_type": "code",
   "execution_count": 130,
   "metadata": {},
   "outputs": [
    {
     "output_type": "execute_result",
     "data": {
      "text/plain": [
       "         ID  Gender  Age Region_Code     Occupation Channel_Code  Vintage  \\\n",
       "0  NNVBBKZB  Female   73       RG268          Other           X3       43   \n",
       "1  IDD62UNG  Female   30       RG277       Salaried           X1       32   \n",
       "2  HD3DSEMC  Female   56       RG268  Self_Employed           X3       26   \n",
       "3  BF3NC7KV    Male   34       RG270       Salaried           X1       19   \n",
       "4  TEASRWXV  Female   30       RG282       Salaried           X1       33   \n",
       "\n",
       "  Credit_Product  Avg_Account_Balance Is_Active  Is_Lead  \n",
       "0             No              1045696        No        0  \n",
       "1             No               581988        No        0  \n",
       "2             No              1484315       Yes        0  \n",
       "3             No               470454        No        0  \n",
       "4             No               886787        No        0  "
      ],
      "text/html": "<div>\n<style scoped>\n    .dataframe tbody tr th:only-of-type {\n        vertical-align: middle;\n    }\n\n    .dataframe tbody tr th {\n        vertical-align: top;\n    }\n\n    .dataframe thead th {\n        text-align: right;\n    }\n</style>\n<table border=\"1\" class=\"dataframe\">\n  <thead>\n    <tr style=\"text-align: right;\">\n      <th></th>\n      <th>ID</th>\n      <th>Gender</th>\n      <th>Age</th>\n      <th>Region_Code</th>\n      <th>Occupation</th>\n      <th>Channel_Code</th>\n      <th>Vintage</th>\n      <th>Credit_Product</th>\n      <th>Avg_Account_Balance</th>\n      <th>Is_Active</th>\n      <th>Is_Lead</th>\n    </tr>\n  </thead>\n  <tbody>\n    <tr>\n      <th>0</th>\n      <td>NNVBBKZB</td>\n      <td>Female</td>\n      <td>73</td>\n      <td>RG268</td>\n      <td>Other</td>\n      <td>X3</td>\n      <td>43</td>\n      <td>No</td>\n      <td>1045696</td>\n      <td>No</td>\n      <td>0</td>\n    </tr>\n    <tr>\n      <th>1</th>\n      <td>IDD62UNG</td>\n      <td>Female</td>\n      <td>30</td>\n      <td>RG277</td>\n      <td>Salaried</td>\n      <td>X1</td>\n      <td>32</td>\n      <td>No</td>\n      <td>581988</td>\n      <td>No</td>\n      <td>0</td>\n    </tr>\n    <tr>\n      <th>2</th>\n      <td>HD3DSEMC</td>\n      <td>Female</td>\n      <td>56</td>\n      <td>RG268</td>\n      <td>Self_Employed</td>\n      <td>X3</td>\n      <td>26</td>\n      <td>No</td>\n      <td>1484315</td>\n      <td>Yes</td>\n      <td>0</td>\n    </tr>\n    <tr>\n      <th>3</th>\n      <td>BF3NC7KV</td>\n      <td>Male</td>\n      <td>34</td>\n      <td>RG270</td>\n      <td>Salaried</td>\n      <td>X1</td>\n      <td>19</td>\n      <td>No</td>\n      <td>470454</td>\n      <td>No</td>\n      <td>0</td>\n    </tr>\n    <tr>\n      <th>4</th>\n      <td>TEASRWXV</td>\n      <td>Female</td>\n      <td>30</td>\n      <td>RG282</td>\n      <td>Salaried</td>\n      <td>X1</td>\n      <td>33</td>\n      <td>No</td>\n      <td>886787</td>\n      <td>No</td>\n      <td>0</td>\n    </tr>\n  </tbody>\n</table>\n</div>"
     },
     "metadata": {},
     "execution_count": 130
    }
   ],
   "source": [
    "df_train = pd.read_csv('train_s3TEQDk.csv')\n",
    "df_train.head()"
   ]
  },
  {
   "cell_type": "code",
   "execution_count": 131,
   "metadata": {},
   "outputs": [
    {
     "output_type": "execute_result",
     "data": {
      "text/plain": [
       "         ID  Gender  Age Region_Code Occupation Channel_Code  Vintage  \\\n",
       "0  3JXGRDYH    Male   48       RG284      Other           X2       55   \n",
       "1  AKSMUS2B  Female   58       RG268   Salaried           X3       87   \n",
       "2  HGKRYAX2  Female   37       RG284   Salaried           X2       14   \n",
       "3  JXLMD2CD    Male   64       RG283      Other           X3       25   \n",
       "4  U5HYCDAV  Female   63       RG268      Other           X3       45   \n",
       "\n",
       "  Credit_Product  Avg_Account_Balance Is_Active  Is_Lead  \n",
       "0            Yes               861546        No        1  \n",
       "1             No              1519683        No        1  \n",
       "2            Yes              1744311        No        1  \n",
       "3            NaN              1406244        No        1  \n",
       "4             No              1262393        No        0  "
      ],
      "text/html": "<div>\n<style scoped>\n    .dataframe tbody tr th:only-of-type {\n        vertical-align: middle;\n    }\n\n    .dataframe tbody tr th {\n        vertical-align: top;\n    }\n\n    .dataframe thead th {\n        text-align: right;\n    }\n</style>\n<table border=\"1\" class=\"dataframe\">\n  <thead>\n    <tr style=\"text-align: right;\">\n      <th></th>\n      <th>ID</th>\n      <th>Gender</th>\n      <th>Age</th>\n      <th>Region_Code</th>\n      <th>Occupation</th>\n      <th>Channel_Code</th>\n      <th>Vintage</th>\n      <th>Credit_Product</th>\n      <th>Avg_Account_Balance</th>\n      <th>Is_Active</th>\n      <th>Is_Lead</th>\n    </tr>\n  </thead>\n  <tbody>\n    <tr>\n      <th>0</th>\n      <td>3JXGRDYH</td>\n      <td>Male</td>\n      <td>48</td>\n      <td>RG284</td>\n      <td>Other</td>\n      <td>X2</td>\n      <td>55</td>\n      <td>Yes</td>\n      <td>861546</td>\n      <td>No</td>\n      <td>1</td>\n    </tr>\n    <tr>\n      <th>1</th>\n      <td>AKSMUS2B</td>\n      <td>Female</td>\n      <td>58</td>\n      <td>RG268</td>\n      <td>Salaried</td>\n      <td>X3</td>\n      <td>87</td>\n      <td>No</td>\n      <td>1519683</td>\n      <td>No</td>\n      <td>1</td>\n    </tr>\n    <tr>\n      <th>2</th>\n      <td>HGKRYAX2</td>\n      <td>Female</td>\n      <td>37</td>\n      <td>RG284</td>\n      <td>Salaried</td>\n      <td>X2</td>\n      <td>14</td>\n      <td>Yes</td>\n      <td>1744311</td>\n      <td>No</td>\n      <td>1</td>\n    </tr>\n    <tr>\n      <th>3</th>\n      <td>JXLMD2CD</td>\n      <td>Male</td>\n      <td>64</td>\n      <td>RG283</td>\n      <td>Other</td>\n      <td>X3</td>\n      <td>25</td>\n      <td>NaN</td>\n      <td>1406244</td>\n      <td>No</td>\n      <td>1</td>\n    </tr>\n    <tr>\n      <th>4</th>\n      <td>U5HYCDAV</td>\n      <td>Female</td>\n      <td>63</td>\n      <td>RG268</td>\n      <td>Other</td>\n      <td>X3</td>\n      <td>45</td>\n      <td>No</td>\n      <td>1262393</td>\n      <td>No</td>\n      <td>0</td>\n    </tr>\n  </tbody>\n</table>\n</div>"
     },
     "metadata": {},
     "execution_count": 131
    }
   ],
   "source": [
    "df_train=df_train.sample(frac=1).reset_index(drop=True)\n",
    "df_train.head()"
   ]
  },
  {
   "cell_type": "code",
   "execution_count": 132,
   "metadata": {},
   "outputs": [],
   "source": [
    "train_id = df_train['ID'].values"
   ]
  },
  {
   "cell_type": "code",
   "execution_count": 133,
   "metadata": {},
   "outputs": [],
   "source": [
    "# df_train.drop(['ID'],axis=1,inplace=True)"
   ]
  },
  {
   "cell_type": "code",
   "execution_count": 134,
   "metadata": {},
   "outputs": [
    {
     "output_type": "execute_result",
     "data": {
      "text/plain": [
       "Male      134197\n",
       "Female    111528\n",
       "Name: Gender, dtype: int64"
      ]
     },
     "metadata": {},
     "execution_count": 134
    }
   ],
   "source": [
    "df_train['Gender'].value_counts()"
   ]
  },
  {
   "cell_type": "code",
   "execution_count": 135,
   "metadata": {},
   "outputs": [
    {
     "output_type": "stream",
     "name": "stdout",
     "text": [
      "The range of Age is : 23 to 85\n"
     ]
    }
   ],
   "source": [
    "# Age variation \n",
    "print('The range of Age is : {} to {}'.format(np.min(df_train['Age']),np.max(df_train['Age'])))"
   ]
  },
  {
   "cell_type": "code",
   "execution_count": 136,
   "metadata": {},
   "outputs": [
    {
     "output_type": "execute_result",
     "data": {
      "text/plain": [
       "RG268    35934\n",
       "RG283    29416\n",
       "RG254    26840\n",
       "RG284    19320\n",
       "RG277    12826\n",
       "RG280    12775\n",
       "RG269     7863\n",
       "RG270     7720\n",
       "RG261     7633\n",
       "RG257     6101\n",
       "RG251     5950\n",
       "RG282     5829\n",
       "RG274     5286\n",
       "RG272     5252\n",
       "RG281     5093\n",
       "RG273     4497\n",
       "RG252     4286\n",
       "RG279     3976\n",
       "RG263     3687\n",
       "RG275     3245\n",
       "RG260     3110\n",
       "RG256     2847\n",
       "RG264     2793\n",
       "RG276     2764\n",
       "RG259     2586\n",
       "RG250     2496\n",
       "RG255     2018\n",
       "RG258     1951\n",
       "RG253     1858\n",
       "RG278     1822\n",
       "RG262     1788\n",
       "RG266     1578\n",
       "RG265     1546\n",
       "RG271     1542\n",
       "RG267     1497\n",
       "Name: Region_Code, dtype: int64"
      ]
     },
     "metadata": {},
     "execution_count": 136
    }
   ],
   "source": [
    "df_train['Region_Code'].value_counts()"
   ]
  },
  {
   "cell_type": "code",
   "execution_count": 137,
   "metadata": {},
   "outputs": [
    {
     "output_type": "execute_result",
     "data": {
      "text/plain": [
       "Self_Employed    100886\n",
       "Salaried          71999\n",
       "Other             70173\n",
       "Entrepreneur       2667\n",
       "Name: Occupation, dtype: int64"
      ]
     },
     "metadata": {},
     "execution_count": 137
    }
   ],
   "source": [
    "df_train['Occupation'].value_counts()"
   ]
  },
  {
   "cell_type": "code",
   "execution_count": 138,
   "metadata": {},
   "outputs": [
    {
     "output_type": "execute_result",
     "data": {
      "text/plain": [
       "X1    103718\n",
       "X3     68712\n",
       "X2     67726\n",
       "X4      5569\n",
       "Name: Channel_Code, dtype: int64"
      ]
     },
     "metadata": {},
     "execution_count": 138
    }
   ],
   "source": [
    "df_train['Channel_Code'].value_counts()"
   ]
  },
  {
   "cell_type": "code",
   "execution_count": 139,
   "metadata": {},
   "outputs": [
    {
     "output_type": "stream",
     "name": "stdout",
     "text": [
      "The range of Vintage is : 7 to 135\n"
     ]
    }
   ],
   "source": [
    "# Value variation \n",
    "print('The range of Vintage is : {} to {}'.format(np.min(df_train['Vintage']),np.max(df_train['Vintage'])))"
   ]
  },
  {
   "cell_type": "code",
   "execution_count": 140,
   "metadata": {},
   "outputs": [
    {
     "output_type": "execute_result",
     "data": {
      "text/plain": [
       "No     144357\n",
       "Yes     72043\n",
       "NaN     29325\n",
       "Name: Credit_Product, dtype: int64"
      ]
     },
     "metadata": {},
     "execution_count": 140
    }
   ],
   "source": [
    "df_train['Credit_Product'].value_counts(dropna=False)"
   ]
  },
  {
   "cell_type": "code",
   "execution_count": 141,
   "metadata": {},
   "outputs": [
    {
     "output_type": "stream",
     "name": "stdout",
     "text": [
      "The range of Account Balance is : 20790 to 10352009\n"
     ]
    }
   ],
   "source": [
    "# Avg Account Balance variation \n",
    "print('The range of Account Balance is : {} to {}'.format(np.min(df_train['Avg_Account_Balance']),np.max(df_train['Avg_Account_Balance'])))"
   ]
  },
  {
   "cell_type": "code",
   "execution_count": 142,
   "metadata": {},
   "outputs": [
    {
     "output_type": "execute_result",
     "data": {
      "text/plain": [
       "No     150290\n",
       "Yes     95435\n",
       "Name: Is_Active, dtype: int64"
      ]
     },
     "metadata": {},
     "execution_count": 142
    }
   ],
   "source": [
    "df_train['Is_Active'].value_counts()"
   ]
  },
  {
   "cell_type": "code",
   "execution_count": 143,
   "metadata": {},
   "outputs": [
    {
     "output_type": "execute_result",
     "data": {
      "text/plain": [
       "No               144357\n",
       "Yes               72043\n",
       "NoInformation     29325\n",
       "Name: Credit_Product, dtype: int64"
      ]
     },
     "metadata": {},
     "execution_count": 143
    }
   ],
   "source": [
    "df_train['Credit_Product'] = df_train['Credit_Product'].replace(np.nan,'NoInformation')\n",
    "df_train['Credit_Product'].value_counts()"
   ]
  },
  {
   "cell_type": "code",
   "execution_count": 144,
   "metadata": {},
   "outputs": [
    {
     "output_type": "execute_result",
     "data": {
      "text/plain": [
       "Index(['ID', 'Gender', 'Age', 'Region_Code', 'Occupation', 'Channel_Code',\n",
       "       'Vintage', 'Credit_Product', 'Avg_Account_Balance', 'Is_Active',\n",
       "       'Is_Lead'],\n",
       "      dtype='object')"
      ]
     },
     "metadata": {},
     "execution_count": 144
    }
   ],
   "source": [
    "features = df_train.columns\n",
    "features"
   ]
  },
  {
   "cell_type": "code",
   "execution_count": 145,
   "metadata": {},
   "outputs": [],
   "source": [
    "features = [f for f in df_train.columns if f not in ('ID','Is_Lead')]"
   ]
  },
  {
   "cell_type": "code",
   "execution_count": 146,
   "metadata": {},
   "outputs": [
    {
     "output_type": "execute_result",
     "data": {
      "text/plain": [
       "(245725, 11)"
      ]
     },
     "metadata": {},
     "execution_count": 146
    }
   ],
   "source": [
    "df_train.shape"
   ]
  },
  {
   "cell_type": "code",
   "execution_count": 147,
   "metadata": {},
   "outputs": [],
   "source": [
    "from sklearn.model_selection import train_test_split\n",
    "df_train,df_valid = train_test_split(df_train,test_size=0.2,stratify=df_train['Is_Lead'])"
   ]
  },
  {
   "cell_type": "code",
   "execution_count": 148,
   "metadata": {},
   "outputs": [
    {
     "output_type": "stream",
     "name": "stdout",
     "text": [
      "Training Shape: (196580, 11)\nValidating Shape: (49145, 11)\n"
     ]
    }
   ],
   "source": [
    "print('Training Shape: {}'.format(df_train.shape))\n",
    "print('Validating Shape: {}'.format(df_valid.shape))"
   ]
  },
  {
   "cell_type": "code",
   "execution_count": 149,
   "metadata": {},
   "outputs": [],
   "source": [
    "xtrain = df_train[features]\n",
    "xvalid = df_valid[features]\n",
    "ytrain = df_train.Is_Lead.values\n",
    "yvalid = df_valid.Is_Lead.values"
   ]
  },
  {
   "cell_type": "code",
   "execution_count": 150,
   "metadata": {},
   "outputs": [
    {
     "output_type": "stream",
     "name": "stdout",
     "text": [
      "['Gender', 'Region_Code', 'Occupation', 'Channel_Code', 'Credit_Product', 'Is_Active']\n"
     ]
    }
   ],
   "source": [
    "categorial_columns = [f for f in features if df_train[f].dtypes=='O']\n",
    "print(categorial_columns)"
   ]
  },
  {
   "cell_type": "code",
   "execution_count": 151,
   "metadata": {},
   "outputs": [
    {
     "output_type": "stream",
     "name": "stdout",
     "text": [
      "['Age', 'Vintage', 'Avg_Account_Balance']\n"
     ]
    }
   ],
   "source": [
    "numerical_columns = [f for f in features if df_train[f].dtypes!='O']\n",
    "print(numerical_columns)"
   ]
  },
  {
   "cell_type": "code",
   "execution_count": 152,
   "metadata": {},
   "outputs": [],
   "source": [
    "from sklearn.preprocessing import StandardScaler,OneHotEncoder\n",
    "from sklearn.compose import make_column_transformer \n",
    "from sklearn.pipeline import make_pipeline \n",
    "from sklearn.linear_model import LogisticRegression"
   ]
  },
  {
   "cell_type": "code",
   "execution_count": 153,
   "metadata": {},
   "outputs": [],
   "source": [
    "transformer = make_column_transformer((StandardScaler(),numerical_columns),(OneHotEncoder(),categorial_columns))"
   ]
  },
  {
   "cell_type": "code",
   "execution_count": 154,
   "metadata": {},
   "outputs": [],
   "source": [
    "model = LogisticRegression()"
   ]
  },
  {
   "cell_type": "code",
   "execution_count": 155,
   "metadata": {},
   "outputs": [],
   "source": [
    "clf = make_pipeline(transformer,model)"
   ]
  },
  {
   "cell_type": "code",
   "execution_count": 156,
   "metadata": {},
   "outputs": [
    {
     "output_type": "execute_result",
     "data": {
      "text/plain": [
       "Pipeline(steps=[('columntransformer',\n",
       "                 ColumnTransformer(transformers=[('standardscaler',\n",
       "                                                  StandardScaler(),\n",
       "                                                  ['Age', 'Vintage',\n",
       "                                                   'Avg_Account_Balance']),\n",
       "                                                 ('onehotencoder',\n",
       "                                                  OneHotEncoder(),\n",
       "                                                  ['Gender', 'Region_Code',\n",
       "                                                   'Occupation', 'Channel_Code',\n",
       "                                                   'Credit_Product',\n",
       "                                                   'Is_Active'])])),\n",
       "                ('logisticregression', LogisticRegression())])"
      ]
     },
     "metadata": {},
     "execution_count": 156
    }
   ],
   "source": [
    "clf.fit(xtrain,ytrain)"
   ]
  },
  {
   "cell_type": "code",
   "execution_count": 157,
   "metadata": {},
   "outputs": [],
   "source": [
    "ypred = clf.predict(xvalid)"
   ]
  },
  {
   "cell_type": "code",
   "execution_count": 158,
   "metadata": {},
   "outputs": [],
   "source": [
    "from sklearn.metrics import accuracy_score,confusion_matrix"
   ]
  },
  {
   "cell_type": "code",
   "execution_count": 159,
   "metadata": {},
   "outputs": [
    {
     "output_type": "stream",
     "name": "stdout",
     "text": [
      "0.8542883304507071\n"
     ]
    }
   ],
   "source": [
    "print(accuracy_score(yvalid,ypred))"
   ]
  },
  {
   "cell_type": "code",
   "execution_count": 160,
   "metadata": {},
   "outputs": [
    {
     "output_type": "stream",
     "name": "stdout",
     "text": [
      "[[36271  1216]\n [ 5945  5713]]\n"
     ]
    }
   ],
   "source": [
    "cm = confusion_matrix(yvalid,ypred)\n",
    "print(cm)"
   ]
  },
  {
   "cell_type": "code",
   "execution_count": 165,
   "metadata": {},
   "outputs": [
    {
     "output_type": "execute_result",
     "data": {
      "text/plain": [
       "         ID  Gender  Age Region_Code Occupation Channel_Code  Vintage  \\\n",
       "0  VBENBARO    Male   29       RG254      Other           X1       25   \n",
       "1  CCMEWNKY    Male   43       RG268      Other           X2       49   \n",
       "2  VK3KGA9M    Male   31       RG270   Salaried           X1       14   \n",
       "3  TT8RPZVC    Male   29       RG272      Other           X1       33   \n",
       "4  SHQZEYTZ  Female   29       RG270      Other           X1       19   \n",
       "\n",
       "  Credit_Product  Avg_Account_Balance Is_Active  \n",
       "0            Yes               742366        No  \n",
       "1            NaN               925537        No  \n",
       "2             No               215949        No  \n",
       "3             No               868070        No  \n",
       "4             No               657087        No  "
      ],
      "text/html": "<div>\n<style scoped>\n    .dataframe tbody tr th:only-of-type {\n        vertical-align: middle;\n    }\n\n    .dataframe tbody tr th {\n        vertical-align: top;\n    }\n\n    .dataframe thead th {\n        text-align: right;\n    }\n</style>\n<table border=\"1\" class=\"dataframe\">\n  <thead>\n    <tr style=\"text-align: right;\">\n      <th></th>\n      <th>ID</th>\n      <th>Gender</th>\n      <th>Age</th>\n      <th>Region_Code</th>\n      <th>Occupation</th>\n      <th>Channel_Code</th>\n      <th>Vintage</th>\n      <th>Credit_Product</th>\n      <th>Avg_Account_Balance</th>\n      <th>Is_Active</th>\n    </tr>\n  </thead>\n  <tbody>\n    <tr>\n      <th>0</th>\n      <td>VBENBARO</td>\n      <td>Male</td>\n      <td>29</td>\n      <td>RG254</td>\n      <td>Other</td>\n      <td>X1</td>\n      <td>25</td>\n      <td>Yes</td>\n      <td>742366</td>\n      <td>No</td>\n    </tr>\n    <tr>\n      <th>1</th>\n      <td>CCMEWNKY</td>\n      <td>Male</td>\n      <td>43</td>\n      <td>RG268</td>\n      <td>Other</td>\n      <td>X2</td>\n      <td>49</td>\n      <td>NaN</td>\n      <td>925537</td>\n      <td>No</td>\n    </tr>\n    <tr>\n      <th>2</th>\n      <td>VK3KGA9M</td>\n      <td>Male</td>\n      <td>31</td>\n      <td>RG270</td>\n      <td>Salaried</td>\n      <td>X1</td>\n      <td>14</td>\n      <td>No</td>\n      <td>215949</td>\n      <td>No</td>\n    </tr>\n    <tr>\n      <th>3</th>\n      <td>TT8RPZVC</td>\n      <td>Male</td>\n      <td>29</td>\n      <td>RG272</td>\n      <td>Other</td>\n      <td>X1</td>\n      <td>33</td>\n      <td>No</td>\n      <td>868070</td>\n      <td>No</td>\n    </tr>\n    <tr>\n      <th>4</th>\n      <td>SHQZEYTZ</td>\n      <td>Female</td>\n      <td>29</td>\n      <td>RG270</td>\n      <td>Other</td>\n      <td>X1</td>\n      <td>19</td>\n      <td>No</td>\n      <td>657087</td>\n      <td>No</td>\n    </tr>\n  </tbody>\n</table>\n</div>"
     },
     "metadata": {},
     "execution_count": 165
    }
   ],
   "source": [
    "df_test = pd.read_csv('test_mSzZ8RL.csv')\n",
    "df_test.head()"
   ]
  },
  {
   "cell_type": "code",
   "execution_count": 166,
   "metadata": {},
   "outputs": [
    {
     "output_type": "execute_result",
     "data": {
      "text/plain": [
       "No               61608\n",
       "Yes              31182\n",
       "NoInformation    12522\n",
       "Name: Credit_Product, dtype: int64"
      ]
     },
     "metadata": {},
     "execution_count": 166
    }
   ],
   "source": [
    "df_test['Credit_Product'] = df_test['Credit_Product'].replace(np.nan,'NoInformation')\n",
    "df_test['Credit_Product'].value_counts()"
   ]
  },
  {
   "cell_type": "code",
   "execution_count": 167,
   "metadata": {},
   "outputs": [],
   "source": [
    "xtest = df_test[features]"
   ]
  },
  {
   "cell_type": "code",
   "execution_count": 168,
   "metadata": {},
   "outputs": [],
   "source": [
    "test_id=df_test['ID']"
   ]
  },
  {
   "cell_type": "code",
   "execution_count": 169,
   "metadata": {},
   "outputs": [],
   "source": [
    "ytest = clf.predict(xtest)"
   ]
  },
  {
   "cell_type": "code",
   "execution_count": 170,
   "metadata": {},
   "outputs": [],
   "source": [
    "data = {'ID':test_id,'Is_Lead':ytest}\n",
    "df_submission = pd.DataFrame(data)"
   ]
  },
  {
   "cell_type": "code",
   "execution_count": 171,
   "metadata": {},
   "outputs": [],
   "source": [
    "df_submission.to_csv('submission.csv',index=False)"
   ]
  }
 ]
}